{
 "cells": [
  {
   "cell_type": "code",
   "execution_count": 34,
   "metadata": {},
   "outputs": [],
   "source": [
    "import numpy as np\n",
    "import os\n",
    "import tensorflow as tf\n",
    "import pandas as pd\n",
    "import matplotlib.pyplot as plt\n",
    "from sklearn.preprocessing import MinMaxScaler, OneHotEncoder\n",
    "from tensorflow.keras.layers import Input, LSTM, Dense, Bidirectional, Activation\n",
    "from tensorflow.keras.models import Model\n",
    "from tensorflow.keras import optimizers\n",
    "from tensorflow.keras import losses\n",
    "from tensorflow.keras import metrics\n",
    "from tensorflow.keras.utils import plot_model, to_categorical\n",
    "# from tensorflow.keras.preprocessing import "
   ]
  },
  {
   "cell_type": "code",
   "execution_count": 2,
   "metadata": {},
   "outputs": [],
   "source": [
    "pwd = os.getcwd()\n",
    "database_path = pwd[:-6] + \"flightData/filtered_data/scenario5\""
   ]
  },
  {
   "cell_type": "code",
   "execution_count": 3,
   "metadata": {},
   "outputs": [],
   "source": [
    "database_file_names = []\n",
    "for root, dirs, files in os.walk(database_path):\n",
    "    database_file_names = [os.path.join(root,file) for file in files]\n",
    "#     print(database_file_names)"
   ]
  },
  {
   "cell_type": "code",
   "execution_count": 4,
   "metadata": {},
   "outputs": [
    {
     "data": {
      "text/plain": [
       "<matplotlib.legend.Legend at 0x138740490>"
      ]
     },
     "execution_count": 4,
     "metadata": {},
     "output_type": "execute_result"
    },
    {
     "data": {
      "image/png": "[encoded data removed]",
      "text/plain": [
       "<Figure size 360x216 with 1 Axes>"
      ]
     },
     "metadata": {
      "needs_background": "light"
     },
     "output_type": "display_data"
    }
   ],
   "source": [
    "plt.figure(figsize=(5,3))\n",
    "# for i,file in enumerate(database_file_names):\n",
    "file = database_file_names[0]\n",
    "data = pd.read_csv(file)\n",
    "# i=1\n",
    "col = data.columns[13]\n",
    "# for col in data.columns:\n",
    "#     if col=='time':\n",
    "#         continue\n",
    "x = data['time'].values\n",
    "y = data[col].values\n",
    "#     plt.subplot(7,2,i)\n",
    "plt.plot(x,y,label=col)\n",
    "plt.grid()\n",
    "plt.legend()\n",
    "#     i=i+1\n",
    "    #     data = data.loc[:, ~data.columns.str.contains('^Unnamed')]\n",
    "    #     data.to_csv(file,index=False)\n",
    "#     old_label = pd.unique(data['label'])\n",
    "#     print(old_label)\n",
    "#     new_label = [j for j in range(1,len(old_label)+1)]\n",
    "#     data = data.replace(old_label, new_label)\n",
    "#     #     print(file)\n",
    "#     x = data['x'].values\n",
    "#     y = data['y'].values\n",
    "#     t = data['time'].values\n",
    "#     label = data['label'].values\n",
    "# #     label[22800:25350] = 4\n",
    "#     label = label*10\n",
    "#     plt.subplot(25,2,i+1)\n",
    "#     #     plt.plot(t,x)\n",
    "#     indx = 0\n",
    "#     plt.plot(y[indx:])\n",
    "#     plt.plot(label[indx:])\n",
    "#     plt.grid()\n",
    "#     file_name = file.split(\"/\")\n",
    "#     file_name = file_name[-1]\n",
    "#     plt.title(file_name)\n",
    "\n",
    "# newfile = file[:-4]+'_new.csv'\n",
    "# data = data.replace(new_label, old_label)\n",
    "# data.to_csv(newfile, index=False)\n",
    "\n",
    "#     print(i)"
   ]
  },
  {
   "cell_type": "code",
   "execution_count": 5,
   "metadata": {},
   "outputs": [
    {
     "data": {
      "text/html": [
       "<div>\n",
       "<style scoped>\n",
       "    .dataframe tbody tr th:only-of-type {\n",
       "        vertical-align: middle;\n",
       "    }\n",
       "\n",
       "    .dataframe tbody tr th {\n",
       "        vertical-align: top;\n",
       "    }\n",
       "\n",
       "    .dataframe thead th {\n",
       "        text-align: right;\n",
       "    }\n",
       "</style>\n",
       "<table border=\"1\" class=\"dataframe\">\n",
       "  <thead>\n",
       "    <tr style=\"text-align: right;\">\n",
       "      <th></th>\n",
       "      <th>label</th>\n",
       "      <th>pitch</th>\n",
       "      <th>pitch_v</th>\n",
       "      <th>roll</th>\n",
       "      <th>roll_v</th>\n",
       "      <th>time</th>\n",
       "      <th>x</th>\n",
       "      <th>x_v</th>\n",
       "      <th>y</th>\n",
       "      <th>y_v</th>\n",
       "      <th>yaw</th>\n",
       "      <th>yaw_v</th>\n",
       "      <th>z</th>\n",
       "      <th>z_v</th>\n",
       "    </tr>\n",
       "  </thead>\n",
       "  <tbody>\n",
       "    <tr>\n",
       "      <td>0</td>\n",
       "      <td>Hold</td>\n",
       "      <td>-0.0</td>\n",
       "      <td>0.0</td>\n",
       "      <td>0.0</td>\n",
       "      <td>0.0</td>\n",
       "      <td>1.590808e+09</td>\n",
       "      <td>-0.000006</td>\n",
       "      <td>-0.000833</td>\n",
       "      <td>-0.000001</td>\n",
       "      <td>-0.000181</td>\n",
       "      <td>0.0</td>\n",
       "      <td>0.0</td>\n",
       "      <td>0.000001</td>\n",
       "      <td>0.000533</td>\n",
       "    </tr>\n",
       "    <tr>\n",
       "      <td>1</td>\n",
       "      <td>Hold</td>\n",
       "      <td>-0.0</td>\n",
       "      <td>0.0</td>\n",
       "      <td>0.0</td>\n",
       "      <td>0.0</td>\n",
       "      <td>1.590808e+09</td>\n",
       "      <td>-0.000006</td>\n",
       "      <td>-0.000833</td>\n",
       "      <td>-0.000001</td>\n",
       "      <td>-0.000181</td>\n",
       "      <td>0.0</td>\n",
       "      <td>0.0</td>\n",
       "      <td>0.000001</td>\n",
       "      <td>0.000533</td>\n",
       "    </tr>\n",
       "    <tr>\n",
       "      <td>2</td>\n",
       "      <td>Hold</td>\n",
       "      <td>-0.0</td>\n",
       "      <td>0.0</td>\n",
       "      <td>0.0</td>\n",
       "      <td>0.0</td>\n",
       "      <td>1.590808e+09</td>\n",
       "      <td>-0.000032</td>\n",
       "      <td>-0.000283</td>\n",
       "      <td>-0.000026</td>\n",
       "      <td>-0.000761</td>\n",
       "      <td>0.0</td>\n",
       "      <td>0.0</td>\n",
       "      <td>0.000140</td>\n",
       "      <td>0.005525</td>\n",
       "    </tr>\n",
       "    <tr>\n",
       "      <td>3</td>\n",
       "      <td>Hold</td>\n",
       "      <td>-0.0</td>\n",
       "      <td>0.0</td>\n",
       "      <td>0.0</td>\n",
       "      <td>0.0</td>\n",
       "      <td>1.590808e+09</td>\n",
       "      <td>-0.000032</td>\n",
       "      <td>-0.000283</td>\n",
       "      <td>-0.000026</td>\n",
       "      <td>-0.000761</td>\n",
       "      <td>0.0</td>\n",
       "      <td>0.0</td>\n",
       "      <td>0.000140</td>\n",
       "      <td>0.005525</td>\n",
       "    </tr>\n",
       "    <tr>\n",
       "      <td>4</td>\n",
       "      <td>Hold</td>\n",
       "      <td>-0.0</td>\n",
       "      <td>0.0</td>\n",
       "      <td>0.0</td>\n",
       "      <td>0.0</td>\n",
       "      <td>1.590808e+09</td>\n",
       "      <td>-0.000032</td>\n",
       "      <td>-0.000283</td>\n",
       "      <td>-0.000026</td>\n",
       "      <td>-0.000761</td>\n",
       "      <td>0.0</td>\n",
       "      <td>0.0</td>\n",
       "      <td>0.000140</td>\n",
       "      <td>0.005525</td>\n",
       "    </tr>\n",
       "  </tbody>\n",
       "</table>\n",
       "</div>"
      ],
      "text/plain": [
       "  label  pitch  pitch_v  roll  roll_v          time         x       x_v  \\\n",
       "0  Hold   -0.0      0.0   0.0     0.0  1.590808e+09 -0.000006 -0.000833   \n",
       "1  Hold   -0.0      0.0   0.0     0.0  1.590808e+09 -0.000006 -0.000833   \n",
       "2  Hold   -0.0      0.0   0.0     0.0  1.590808e+09 -0.000032 -0.000283   \n",
       "3  Hold   -0.0      0.0   0.0     0.0  1.590808e+09 -0.000032 -0.000283   \n",
       "4  Hold   -0.0      0.0   0.0     0.0  1.590808e+09 -0.000032 -0.000283   \n",
       "\n",
       "          y       y_v  yaw  yaw_v         z       z_v  \n",
       "0 -0.000001 -0.000181  0.0    0.0  0.000001  0.000533  \n",
       "1 -0.000001 -0.000181  0.0    0.0  0.000001  0.000533  \n",
       "2 -0.000026 -0.000761  0.0    0.0  0.000140  0.005525  \n",
       "3 -0.000026 -0.000761  0.0    0.0  0.000140  0.005525  \n",
       "4 -0.000026 -0.000761  0.0    0.0  0.000140  0.005525  "
      ]
     },
     "execution_count": 5,
     "metadata": {},
     "output_type": "execute_result"
    }
   ],
   "source": [
    "data.head()"
   ]
  },
  {
   "cell_type": "code",
   "execution_count": 14,
   "metadata": {},
   "outputs": [
    {
     "name": "stdout",
     "output_type": "stream",
     "text": [
      "[1, 2, 3, 4, 5, 6]\n"
     ]
    }
   ],
   "source": [
    "print([i for i in range(1,len(pd.unique(data['label']))+1)])"
   ]
  },
  {
   "cell_type": "code",
   "execution_count": 20,
   "metadata": {},
   "outputs": [
    {
     "name": "stdout",
     "output_type": "stream",
     "text": [
      "[1 2 3 4 5 6]\n"
     ]
    }
   ],
   "source": [
    "print(pd.unique(data['label']))"
   ]
  },
  {
   "cell_type": "code",
   "execution_count": 34,
   "metadata": {},
   "outputs": [
    {
     "name": "stdout",
     "output_type": "stream",
     "text": [
      "/Users/mrinmoysarkar/Documents/git_repos/ros-intel-uav-rpeo/simulation_ws/src/pie/flightData/filtered_data/scenario4/scenario4_9_new.csv\n"
     ]
    }
   ],
   "source": [
    "print(file[:-4]+'_new.csv')"
   ]
  },
  {
   "cell_type": "code",
   "execution_count": 92,
   "metadata": {},
   "outputs": [
    {
     "name": "stdout",
     "output_type": "stream",
     "text": [
      "(59902, 12)\n",
      "(59902, 7)\n",
      "[1. 0. 0. 0. 0. 0. 0.]\n"
     ]
    }
   ],
   "source": [
    "X_train = data.drop(columns=['label', 'time'])\n",
    "X_train = X_train.values\n",
    "print(X_train.shape)\n",
    "scaler = MinMaxScaler()\n",
    "X_train = scaler.fit_transform(X_train)\n",
    "Y_train = data['label'].values\n",
    "Y_train = Y_train.reshape((-1,1))\n",
    "encoder = OneHotEncoder()\n",
    "Y_train = encoder.fit_transform(Y_train).toarray()\n",
    "print(Y_train.shape)\n",
    "print(Y_train[0,:])"
   ]
  },
  {
   "cell_type": "code",
   "execution_count": 95,
   "metadata": {},
   "outputs": [],
   "source": [
    "def batch_gen(X,y,time_step,batch_size=64):\n",
    "    i = 0\n",
    "    m = X.shape[0]\n",
    "    while True:\n",
    "        x_batch = []\n",
    "        y_batch = []\n",
    "        for j in range(batch_size):\n",
    "            if i+j+time_step == m:\n",
    "                i = -1\n",
    "                break\n",
    "            x_batch.append(X[i+j:i+j+time_step,:])\n",
    "            y_batch.append(y[i+j+time_step,:])\n",
    "        i=i+1\n",
    "        yield (np.array(x_batch), np.array(y_batch))\n",
    "        \n"
   ]
  },
  {
   "cell_type": "code",
   "execution_count": 96,
   "metadata": {},
   "outputs": [
    {
     "name": "stdout",
     "output_type": "stream",
     "text": [
      "(32, 10, 12)\n",
      "(32, 7)\n",
      "(32, 10, 12)\n",
      "(32, 7)\n",
      "(32, 10, 12)\n",
      "(32, 7)\n",
      "(32, 10, 12)\n",
      "(32, 7)\n",
      "(32, 10, 12)\n",
      "(32, 7)\n",
      "(32, 10, 12)\n",
      "(32, 7)\n"
     ]
    }
   ],
   "source": [
    "# X = [[1,6],[2,7],[3,8],[4,9],[5,10]]\n",
    "# Y = [[1,6],[2,7],[3,8],[4,9],[5,10]]\n",
    "# X = np.array(X)\n",
    "# Y = np.array(Y)\n",
    "# print(X.shape)\n",
    "# print(Y.shape)\n",
    "i=0\n",
    "for (x,y) in batch_gen(X_train,Y_train,10,32):\n",
    "    i=i+1\n",
    "    print(x.shape)\n",
    "    print(y.shape)\n",
    "    if i>5:\n",
    "        break"
   ]
  },
  {
   "cell_type": "code",
   "execution_count": 97,
   "metadata": {},
   "outputs": [],
   "source": [
    "#create model\n",
    "num_feature = 12\n",
    "time_step = 8\n",
    "num_class = 7\n",
    "x_in = Input(shape=(time_step,num_feature),dtype=\"float32\")\n",
    "forward_layer = LSTM(units=20, return_sequences=True, activation='tanh')\n",
    "backward_layer = LSTM(units=20, return_sequences=True, activation='tanh', go_backwards=True)\n",
    "bid_layer = Bidirectional(layer=forward_layer,backward_layer=backward_layer, merge_mode='concat')(x_in)\n",
    "y = Dense(units=num_class,activation='softmax')(bid_layer[:,-1,:])\n",
    "model = Model(inputs=x_in,outputs=y)\n",
    "optimizer = optimizers.Adam(learning_rate=0.001, beta_1=0.9, beta_2=0.999, amsgrad=False)\n",
    "loss = losses.categorical_crossentropy\n",
    "model.compile(optimizer=optimizer, loss=loss, metrics=[metrics.Accuracy()])"
   ]
  },
  {
   "cell_type": "code",
   "execution_count": 98,
   "metadata": {},
   "outputs": [
    {
     "name": "stdout",
     "output_type": "stream",
     "text": [
      "Model: \"model_8\"\n",
      "_________________________________________________________________\n",
      "Layer (type)                 Output Shape              Param #   \n",
      "=================================================================\n",
      "input_11 (InputLayer)        [(None, 8, 12)]           0         \n",
      "_________________________________________________________________\n",
      "bidirectional_8 (Bidirection (None, 8, 40)             5280      \n",
      "_________________________________________________________________\n",
      "tf_op_layer_strided_slice_3  [(None, 40)]              0         \n",
      "_________________________________________________________________\n",
      "dense_8 (Dense)              (None, 7)                 287       \n",
      "=================================================================\n",
      "Total params: 5,567\n",
      "Trainable params: 5,567\n",
      "Non-trainable params: 0\n",
      "_________________________________________________________________\n",
      "None\n"
     ]
    }
   ],
   "source": [
    "print(model.summary())"
   ]
  },
  {
   "cell_type": "code",
   "execution_count": 99,
   "metadata": {},
   "outputs": [
    {
     "data": {
      "image/png": "[encoded data removed]",
      "text/plain": [
       "<IPython.core.display.Image object>"
      ]
     },
     "execution_count": 99,
     "metadata": {},
     "output_type": "execute_result"
    }
   ],
   "source": [
    "plot_model(model=model,to_file=\"model.png\")"
   ]
  },
  {
   "cell_type": "code",
   "execution_count": null,
   "metadata": {},
   "outputs": [
    {
     "name": "stdout",
     "output_type": "stream",
     "text": [
      "WARNING:tensorflow:sample_weight modes were coerced from\n",
      "  ...\n",
      "    to  \n",
      "  ['...']\n",
      "Epoch 1/100\n"
     ]
    }
   ],
   "source": [
    "history = model.fit(batch_gen(X_train,Y_train,time_step,batch_size=32), epochs=100, verbose=2, shuffle=False)"
   ]
  },
  {
   "cell_type": "code",
   "execution_count": null,
   "metadata": {},
   "outputs": [],
   "source": []
  }
 ],
 "metadata": {
  "kernelspec": {
   "display_name": "Python 3",
   "language": "python",
   "name": "python3"
  },
  "language_info": {
   "codemirror_mode": {
    "name": "ipython",
    "version": 3
   },
   "file_extension": ".py",
   "mimetype": "text/x-python",
   "name": "python",
   "nbconvert_exporter": "python",
   "pygments_lexer": "ipython3",
   "version": "3.7.6"
  }
 },
 "nbformat": 4,
 "nbformat_minor": 4
}
