{
 "cells": [
  {
   "cell_type": "code",
   "execution_count": 1,
   "metadata": {},
   "outputs": [],
   "source": [
    "import numpy as np\n",
    "import os\n",
    "import tensorflow as tf\n",
    "from tensorflow.data import Dataset\n",
    "import pandas as pd\n",
    "import matplotlib.pyplot as plt\n",
    "from sklearn.preprocessing import MinMaxScaler, OneHotEncoder\n",
    "from sklearn.metrics import accuracy_score, classification_report, confusion_matrix\n",
    "from tensorflow.keras.layers import Input, LSTM, Dense, Bidirectional, Activation, GRU\n",
    "from tensorflow.keras.models import Model\n",
    "from tensorflow.keras import optimizers\n",
    "from tensorflow.keras import losses\n",
    "from tensorflow.keras import metrics\n",
    "from tensorflow.keras.utils import plot_model, to_categorical\n",
    "from tensorflow.keras.models import load_model\n",
    "from tensorflow.keras.preprocessing import timeseries_dataset_from_array\n",
    "from tensorflow.keras.callbacks import LambdaCallback\n",
    "from sklearn import tree\n",
    "from sklearn.metrics import confusion_matrix\n",
    "import itertools\n",
    "import time\n",
    "import multiprocessing\n",
    "\n",
    "%matplotlib inline"
   ]
  },
  {
   "cell_type": "code",
   "execution_count": 8,
   "metadata": {},
   "outputs": [
    {
     "name": "stdout",
     "output_type": "stream",
     "text": [
      "['/home/ariac/ros-intel-uav-rpeo/simulation_ws/src/pie/flightData/filtered_data/scenario4/scenario4_1.csv', '/home/ariac/ros-intel-uav-rpeo/simulation_ws/src/pie/flightData/filtered_data/scenario4/scenario4_4.csv', '/home/ariac/ros-intel-uav-rpeo/simulation_ws/src/pie/flightData/filtered_data/scenario4/scenario4_6.csv', '/home/ariac/ros-intel-uav-rpeo/simulation_ws/src/pie/flightData/filtered_data/scenario4/scenario4_2.csv', '/home/ariac/ros-intel-uav-rpeo/simulation_ws/src/pie/flightData/filtered_data/scenario4/scenario4_3.csv', '/home/ariac/ros-intel-uav-rpeo/simulation_ws/src/pie/flightData/filtered_data/scenario4/scenario4_5.csv', '/home/ariac/ros-intel-uav-rpeo/simulation_ws/src/pie/flightData/filtered_data/scenario4/scenario4_7.csv', '/home/ariac/ros-intel-uav-rpeo/simulation_ws/src/pie/flightData/filtered_data/scenario4/scenario4_9.csv', '/home/ariac/ros-intel-uav-rpeo/simulation_ws/src/pie/flightData/filtered_data/scenario4/scenario4_8.csv']\n"
     ]
    }
   ],
   "source": [
    "pwd = os.getcwd()\n",
    "database_path = pwd[:-6] + \"flightData/filtered_data/scenario4\"\n",
    "database_file_names = []\n",
    "for root, dirs, files in os.walk(database_path):\n",
    "    if not dirs:\n",
    "        database_file_names = database_file_names + [os.path.join(root,file) for file in files]\n",
    "print(database_file_names)"
   ]
  },
  {
   "cell_type": "code",
   "execution_count": 3,
   "metadata": {},
   "outputs": [
    {
     "name": "stderr",
     "output_type": "stream",
     "text": [
      "/usr/local/lib/python3.6/dist-packages/IPython/core/interactiveshell.py:3058: DtypeWarning: Columns (12) have mixed types. Specify dtype option on import or set low_memory=False.\n",
      "  interactivity=interactivity, compiler=compiler, result=result)\n"
     ]
    }
   ],
   "source": [
    "data = pd.read_csv(database_file_names[0])\n",
    "X_train = data.drop(columns=['label', 'time','x','y','pitch_v','roll_v','yaw_v'])\n",
    "X_train = X_train.values\n",
    "Y_train = data['label'].values\n",
    "Y_train = Y_train.reshape((-1,1))"
   ]
  },
  {
   "cell_type": "code",
   "execution_count": 4,
   "metadata": {},
   "outputs": [
    {
     "data": {
      "text/plain": [
       "(140163, 7)"
      ]
     },
     "execution_count": 4,
     "metadata": {},
     "output_type": "execute_result"
    }
   ],
   "source": [
    "X_train.shape"
   ]
  },
  {
   "cell_type": "code",
   "execution_count": 6,
   "metadata": {},
   "outputs": [
    {
     "data": {
      "text/plain": [
       "(10, 7)"
      ]
     },
     "execution_count": 6,
     "metadata": {},
     "output_type": "execute_result"
    }
   ],
   "source": [
    "x_batch = X_train[0:10,:]\n",
    "x_batch.shape"
   ]
  },
  {
   "cell_type": "code",
   "execution_count": 7,
   "metadata": {},
   "outputs": [
    {
     "data": {
      "text/plain": [
       "(1, 70)"
      ]
     },
     "execution_count": 7,
     "metadata": {},
     "output_type": "execute_result"
    }
   ],
   "source": [
    "x_flatten = x_batch.reshape((1,-1))\n",
    "x_flatten.shape"
   ]
  },
  {
   "cell_type": "code",
   "execution_count": 8,
   "metadata": {},
   "outputs": [],
   "source": [
    "x_bat1 = [x_flatten,x_flatten,x_flatten]"
   ]
  },
  {
   "cell_type": "code",
   "execution_count": 9,
   "metadata": {},
   "outputs": [],
   "source": [
    "x_bat2 = np.array(x_bat1)"
   ]
  },
  {
   "cell_type": "code",
   "execution_count": 14,
   "metadata": {},
   "outputs": [
    {
     "data": {
      "text/plain": [
       "(3, 70)"
      ]
     },
     "execution_count": 14,
     "metadata": {},
     "output_type": "execute_result"
    }
   ],
   "source": [
    "x_bat2.shape"
   ]
  },
  {
   "cell_type": "code",
   "execution_count": 13,
   "metadata": {},
   "outputs": [],
   "source": [
    "x_bat2=x_bat2.reshape((3,-1))"
   ]
  },
  {
   "cell_type": "code",
   "execution_count": 15,
   "metadata": {},
   "outputs": [
    {
     "data": {
      "text/plain": [
       "array([-0.0, 0.0, -0.0008322513895109296, -0.00018102634930983183, 0.0],\n",
       "      dtype=object)"
      ]
     },
     "execution_count": 15,
     "metadata": {},
     "output_type": "execute_result"
    }
   ],
   "source": [
    "x_bat2[0,0:5]"
   ]
  },
  {
   "cell_type": "code",
   "execution_count": 16,
   "metadata": {},
   "outputs": [
    {
     "data": {
      "text/plain": [
       "array([-0.0, 0.0, -0.0008322513895109296, -0.00018102634930983183, 0.0],\n",
       "      dtype=object)"
      ]
     },
     "execution_count": 16,
     "metadata": {},
     "output_type": "execute_result"
    }
   ],
   "source": [
    "x_flatten[0,0:5]"
   ]
  },
  {
   "cell_type": "code",
   "execution_count": 11,
   "metadata": {},
   "outputs": [],
   "source": [
    "class Process(multiprocessing.Process): \n",
    "    def __init__(self, id): \n",
    "        super(Process, self).__init__() \n",
    "        self.id = id\n",
    "                 \n",
    "    def run(self): \n",
    "        #time.sleep(1) \n",
    "        print(\"I'm the process with id: {}\".format(self.id))\n",
    "        print(\"I'm the process with id: {}\".format(self.id))\n",
    "        print(\"I'm the process with id: {}\".format(self.id))\n",
    "        "
   ]
  },
  {
   "cell_type": "code",
   "execution_count": 3,
   "metadata": {},
   "outputs": [],
   "source": [
    "# for i in range(1000):\n",
    "#     p = Process(i)\n",
    "#     p.start()"
   ]
  },
  {
   "cell_type": "code",
   "execution_count": 10,
   "metadata": {},
   "outputs": [
    {
     "data": {
      "text/plain": [
       "3"
      ]
     },
     "execution_count": 10,
     "metadata": {},
     "output_type": "execute_result"
    }
   ],
   "source": [
    "file_name = \"/home/ariac/ros-intel-uav-rpeo/simulation_ws/src/pie/flightData/filtered_data/scenario1/scenario1_3.csv\"\n",
    "int(((file_name.split('/')[-1]).split('_')[-1]).split('.')[0])"
   ]
  },
  {
   "cell_type": "code",
   "execution_count": 9,
   "metadata": {},
   "outputs": [
    {
     "data": {
      "text/plain": [
       "'/home/ariac/ros-intel-uav-rpeo/simulation_ws/src/pie/script'"
      ]
     },
     "execution_count": 9,
     "metadata": {},
     "output_type": "execute_result"
    }
   ],
   "source": [
    "pwd = os.getcwd()\n",
    "pwd"
   ]
  },
  {
   "cell_type": "code",
   "execution_count": 10,
   "metadata": {},
   "outputs": [],
   "source": [
    "acc_by_scenario = {'scenario'+str(i+1):[[],[]] for i in range(5)}"
   ]
  },
  {
   "cell_type": "code",
   "execution_count": 11,
   "metadata": {},
   "outputs": [
    {
     "data": {
      "text/plain": [
       "{'scenario1': [[], []],\n",
       " 'scenario2': [[], []],\n",
       " 'scenario3': [[], []],\n",
       " 'scenario4': [[], []],\n",
       " 'scenario5': [[], []]}"
      ]
     },
     "execution_count": 11,
     "metadata": {},
     "output_type": "execute_result"
    }
   ],
   "source": [
    "acc_by_scenario"
   ]
  },
  {
   "cell_type": "code",
   "execution_count": 22,
   "metadata": {},
   "outputs": [
    {
     "name": "stdout",
     "output_type": "stream",
     "text": [
      "1.0508711338043213\n",
      "1.0410828590393066\n",
      "1.0641930103302002\n",
      "1.0548598766326904\n",
      "1.052947998046875\n",
      "1.0507028102874756\n",
      "1.0478050708770752\n",
      "1.0500290393829346\n",
      "1.0481820106506348\n",
      "1.0546960830688477\n",
      "1.0479819774627686\n",
      "1.050018072128296\n",
      "1.0488409996032715\n",
      "1.0483078956604004\n",
      "1.052245855331421\n",
      "1.048624038696289\n",
      "1.0485329627990723\n",
      "1.0559089183807373\n",
      "1.0499839782714844\n",
      "1.0480949878692627\n",
      "1.0483589172363281\n",
      "1.0516610145568848\n",
      "1.048658847808838\n",
      "1.051227331161499\n",
      "1.046910047531128\n",
      "               scenario1  scenario2  scenario3  scenario4  scenario5\n",
      "Hold               13264      13287      64310      57328      23519\n",
      "Takeoff             1813       1844       1900       1858       1801\n",
      "Hover               9001       9000       9045       9001       9014\n",
      "Search                 0     109788     204655     541196     319726\n",
      "Loiter                 0          0      83451          0      51460\n",
      "Obstacleavoid          0          0          0      17441      11533\n",
      "Land                1940       2088       1986       1848       1896\n"
     ]
    }
   ],
   "source": [
    "pwd = os.getcwd()\n",
    "all_file_names = []\n",
    "scenarios = ['scenario'+str(i+1) for i in range(5)]\n",
    "data_dist_table = pd.DataFrame(index=['Hold','Takeoff','Hover','Search','Loiter','Obstacleavoid','Land'])\n",
    "for scenario in scenarios:\n",
    "    count_dict = {'Hold':0,'Takeoff':0,'Hover':0,'Search':0,'Loiter':0,'Obstacleavoid':0,'Land':0}\n",
    "    database_path = pwd[:-6] + \"flightData/filtered_data/\"+scenario\n",
    "    database_file_names = []\n",
    "    for root, dirs, files in os.walk(database_path):\n",
    "        database_file_names = [os.path.join(root,file) for file in files]\n",
    "    all_file_names += database_file_names\n",
    "    for file in database_file_names:\n",
    "        data = pd.read_csv(file)\n",
    "        label_count = data['label'].value_counts()\n",
    "        print(data['time'][63]-data['time'][0])\n",
    "        for indx in label_count.index:\n",
    "            count_dict[indx] += label_count[indx]\n",
    "    data_dist_table[scenario] = count_dict.values()\n",
    "print(data_dist_table) "
   ]
  },
  {
   "cell_type": "code",
   "execution_count": 21,
   "metadata": {},
   "outputs": [
    {
     "data": {
      "text/plain": [
       "([<matplotlib.patches.Wedge at 0x7f1cf5fdeba8>,\n",
       "  <matplotlib.patches.Wedge at 0x7f1cf5fe9080>,\n",
       "  <matplotlib.patches.Wedge at 0x7f1cf5fe9518>,\n",
       "  <matplotlib.patches.Wedge at 0x7f1cf5fe99b0>,\n",
       "  <matplotlib.patches.Wedge at 0x7f1cf5fe9e48>,\n",
       "  <matplotlib.patches.Wedge at 0x7f1cf5ff3320>,\n",
       "  <matplotlib.patches.Wedge at 0x7f1cf5ff37b8>],\n",
       " [Text(1.0361094498444814, 0.3694282175781465, 'Hold'),\n",
       "  Text(0.8389229899986013, 0.7114831107284324, 'Takeoff'),\n",
       "  Text(0.7571330249742301, 0.7979659030894567, 'Hover'),\n",
       "  Text(-1.094010222105382, -0.11463696580480792, 'Search'),\n",
       "  Text(1.002768285063901, -0.4521678520969876, 'Loiter'),\n",
       "  Text(1.0948587053850016, -0.10622812830262363, 'Obstacleavoid'),\n",
       "  Text(1.0997916368547058, -0.0214092387638442, 'Land')])"
      ]
     },
     "execution_count": 21,
     "metadata": {},
     "output_type": "execute_result"
    },
    {
     "data": {
      "image/png": "[encoded data removed]",
      "text/plain": [
       "<Figure size 432x288 with 1 Axes>"
      ]
     },
     "metadata": {},
     "output_type": "display_data"
    }
   ],
   "source": [
    "data = data_dist_table['scenario1']+data_dist_table['scenario2']+data_dist_table['scenario3']+data_dist_table['scenario4']+data_dist_table['scenario5']\n",
    "\n",
    "plt.pie(data,labels=['Hold','Takeoff','Hover','Search','Loiter','Obstacleavoid','Land'])"
   ]
  },
  {
   "cell_type": "code",
   "execution_count": null,
   "metadata": {},
   "outputs": [],
   "source": [
    "LSTM()"
   ]
  }
 ],
 "metadata": {
  "kernelspec": {
   "display_name": "Python 3",
   "language": "python",
   "name": "python3"
  },
  "language_info": {
   "codemirror_mode": {
    "name": "ipython",
    "version": 3
   },
   "file_extension": ".py",
   "mimetype": "text/x-python",
   "name": "python",
   "nbconvert_exporter": "python",
   "pygments_lexer": "ipython3",
   "version": "3.6.9"
  }
 },
 "nbformat": 4,
 "nbformat_minor": 2
}
